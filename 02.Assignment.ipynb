{
 "cells": [
  {
   "cell_type": "code",
   "execution_count": 1,
   "id": "ff4dc0e1-5e06-4383-9b6f-e1b48636a225",
   "metadata": {},
   "outputs": [
    {
     "name": "stdout",
     "output_type": "stream",
     "text": [
      "the square of the 3 is 6\n"
     ]
    }
   ],
   "source": [
    "# 1. enter the random number print out the square of the number\n",
    "import random\n",
    "number=random.randint(1,10)\n",
    "print(f\"the square of the {number} is {number*2}\")"
   ]
  },
  {
   "cell_type": "code",
   "execution_count": 3,
   "id": "255a42ff-daad-44a5-b823-cc06001338e9",
   "metadata": {},
   "outputs": [
    {
     "name": "stdout",
     "output_type": "stream",
     "text": [
      "9---18---27---36---45\n"
     ]
    }
   ],
   "source": [
    "# 2. take a random number x print out x,2x, 3x, 4x and 5x each separated by three dashes\n",
    "import random\n",
    "num=random.randint(1,10)\n",
    "print(num,num*2,num*3,num*4,num*5, sep=\"---\")"
   ]
  },
  {
   "cell_type": "code",
   "execution_count": 4,
   "id": "62cddb91-4ad1-448f-964a-0700288477f1",
   "metadata": {},
   "outputs": [
    {
     "name": "stdout",
     "output_type": "stream",
     "text": [
      "the wight 9 kg in pounds is 19.8\n"
     ]
    }
   ],
   "source": [
    "# 3. write a program take random values for the weight in kilograms and convert into pounds one pound=2.2\n",
    "\n",
    "import random\n",
    "weight=random.randint(1,100)\n",
    "pounds=weight*2.2\n",
    "print(f\"the wight {weight} kg in pounds is {pounds}\")"
   ]
  },
  {
   "cell_type": "code",
   "execution_count": 6,
   "id": "067febdf-5b8c-4b7c-a120-4c4a01de509b",
   "metadata": {},
   "outputs": [
    {
     "name": "stdout",
     "output_type": "stream",
     "text": [
      "the the sum of three numbers is : 78\n",
      "the the average of three numbers is : 26.0\n"
     ]
    }
   ],
   "source": [
    "# 4. write a program take 3 random values calculate sum and average \n",
    "rand1=random.randint(1,20)\n",
    "rand2=random.randint(20,30)\n",
    "rand3=random.randint(30,40)\n",
    "sum=rand1+rand2+rand3\n",
    "average=(rand1+rand2+rand3)/3\n",
    "print(f\"the the sum of three numbers is : {sum}\")\n",
    "print(f\"the the average of three numbers is : {average}\")"
   ]
  },
  {
   "cell_type": "code",
   "execution_count": 7,
   "id": "97f8210f-9e5b-4967-85fe-0f129706b8bf",
   "metadata": {},
   "outputs": [
    {
     "name": "stdout",
     "output_type": "stream",
     "text": [
      "the tip amount is : 283.33\n",
      "the total bill is : 1260.33\n"
     ]
    }
   ],
   "source": [
    "# 5. a lot of cell phones have tip calculators. write one , take the random price of the meal and the percentage tip they want to leave. \n",
    "# then print both the tip amount and the bill with th tip included\n",
    "price=random.randint(100,1000)\n",
    "tip_percentage=random.randint(10,100)\n",
    "tip_amount=price*tip_percentage/100\n",
    "total_bill=tip_amount+price\n",
    "print(f\"the tip amount is : {tip_amount}\")\n",
    "print(f\"the total bill is : {total_bill}\")"
   ]
  },
  {
   "cell_type": "code",
   "execution_count": 8,
   "id": "be0a2b65-36bf-4deb-8f9a-255517d17791",
   "metadata": {},
   "outputs": [
    {
     "name": "stdout",
     "output_type": "stream",
     "text": [
      "the addition : 33\n",
      "the substraction: -13\n",
      "the multiplication : 230\n",
      "the division : 0.43478260869565216\n"
     ]
    }
   ],
   "source": [
    "# 6. write a program take  two random numbers and find the addition, substraction, multiplication and division\n",
    "value1=random.randint(10,20)\n",
    "value2=random.randint(20,30)\n",
    "addition=value1+value2\n",
    "substraction= value1-value2\n",
    "multiplication=value1*value2\n",
    "division=value1/value2\n",
    "print(f\"the addition : {addition}\")\n",
    "print(f\"the substraction: {substraction}\")\n",
    "print(f\"the multiplication : {multiplication}\")\n",
    "print(f\"the division : {division}\")"
   ]
  },
  {
   "cell_type": "code",
   "execution_count": 9,
   "id": "032e2f5f-5d6a-44f3-a11e-e858c738c724",
   "metadata": {},
   "outputs": [
    {
     "name": "stdout",
     "output_type": "stream",
     "text": [
      "the area of circle is : 900\n"
     ]
    }
   ],
   "source": [
    "# 7. write a program take random  values for the radius value and pi value find the area of the circle\n",
    "radius=random.randint(1,20)\n",
    "pi_value=random.randint(1,5)\n",
    "area_of_circle=pi_value*radius*radius\n",
    "print(f\"the area of circle is : {area_of_circle}\")"
   ]
  },
  {
   "cell_type": "code",
   "execution_count": 10,
   "id": "022a5be7-0051-45f5-93b0-c07a18415dfe",
   "metadata": {},
   "outputs": [
    {
     "name": "stdout",
     "output_type": "stream",
     "text": [
      "the bill amount in indian rupees : 6075\n"
     ]
    }
   ],
   "source": [
    "# 8. write a program take random  bill amount in dollars and the random amount how much indian rupees \n",
    "# for one dollar print the bill amount in rupees\n",
    "bill_amount_dollar=random.randint(1,100)\n",
    "indian_rupees=random.randint(80,90)\n",
    "bill_amount_rupees=bill_amount_dollar*indian_rupees\n",
    "print(f\"the bill amount in indian rupees : {bill_amount_rupees}\")"
   ]
  },
  {
   "cell_type": "code",
   "execution_count": 11,
   "id": "52026901-6c33-43ef-991c-3f0987edd6e8",
   "metadata": {},
   "outputs": [
    {
     "name": "stdout",
     "output_type": "stream",
     "text": [
      "the area of triangle is : 600\n"
     ]
    }
   ],
   "source": [
    "# 9. write a program use the random values for base and height calculate the area of triangle\n",
    "base=random.randint(10,50)\n",
    "height=random.randint(10,20)\n",
    "area_of_triangle=base*height\n",
    "print(f\"the area of triangle is : {area_of_triangle}\")"
   ]
  },
  {
   "cell_type": "code",
   "execution_count": 13,
   "id": "66f82cd5-e171-479b-b83d-60e6ec92798c",
   "metadata": {},
   "outputs": [
    {
     "name": "stdout",
     "output_type": "stream",
     "text": [
      "the area of rectangle : 418\n"
     ]
    }
   ],
   "source": [
    "# 10. write a program use the random values for length and breadth calculate the area of rectangle\n",
    "length=random.randint(20,30)\n",
    "breadth=random.randint(10,20)\n",
    "area_of_rectangle=length*breadth\n",
    "print(f\"the area of rectangle : {area_of_rectangle}\")"
   ]
  },
  {
   "cell_type": "code",
   "execution_count": 14,
   "id": "6be6438a-7420-4c43-8390-2c56f162fea4",
   "metadata": {},
   "outputs": [
    {
     "name": "stdout",
     "output_type": "stream",
     "text": [
      "It was a sunday, and father want to take his daughter for shopping!\n",
      "father: hello my sweet daughter! Are you reay to go for shopping?\n",
      "daughter: hello daddy, yes dad i am ready\n",
      "father: where would like to go?\n",
      "daughter: I think D-mart is the better\n",
      "father: D-mart. Great choice! what thigs are you want buy?\n",
      "daughter: books, chocolates, clothes and shoes\n",
      "father: ok! my sweety. Buy what you want\n",
      "daughter: Thanks dad and I love you\n"
     ]
    }
   ],
   "source": [
    "# 11. create a story between a father and daughter\n",
    "import time\n",
    "print(\"It was a sunday, and father want to take his daughter for shopping!\")\n",
    "time.sleep(2)\n",
    "print(\"father: hello my sweet daughter! Are you reay to go for shopping?\")\n",
    "time.sleep(2)\n",
    "print(\"daughter: hello daddy, yes dad i am ready\")\n",
    "time.sleep(2)\n",
    "print(\"father: where would like to go?\")\n",
    "time.sleep(2)\n",
    "print(\"daughter: I think D-mart is the better\")\n",
    "time.sleep(2)\n",
    "print(\"father: D-mart. Great choice! what thigs are you want buy?\")\n",
    "time.sleep(2)\n",
    "print(\"daughter: books, chocolates, clothes and shoes\")\n",
    "time.sleep(2)\n",
    "print(\"father: ok! my sweety. Buy what you want\")\n",
    "time.sleep(2)\n",
    "print(\"daughter: Thanks dad and I love you\")"
   ]
  },
  {
   "cell_type": "code",
   "execution_count": null,
   "id": "66285c46-e468-4966-b545-246ce5ce373c",
   "metadata": {},
   "outputs": [],
   "source": []
  }
 ],
 "metadata": {
  "kernelspec": {
   "display_name": "Python 3 (ipykernel)",
   "language": "python",
   "name": "python3"
  },
  "language_info": {
   "codemirror_mode": {
    "name": "ipython",
    "version": 3
   },
   "file_extension": ".py",
   "mimetype": "text/x-python",
   "name": "python",
   "nbconvert_exporter": "python",
   "pygments_lexer": "ipython3",
   "version": "3.11.7"
  }
 },
 "nbformat": 4,
 "nbformat_minor": 5
}
