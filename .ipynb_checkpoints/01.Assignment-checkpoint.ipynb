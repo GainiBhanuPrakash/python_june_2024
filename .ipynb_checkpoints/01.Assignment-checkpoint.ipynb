{
 "cells": [
  {
   "cell_type": "code",
   "execution_count": 1,
   "id": "b7303a40-dd03-48fb-ad82-97f523c38726",
   "metadata": {},
   "outputs": [
    {
     "name": "stdin",
     "output_type": "stream",
     "text": [
      "enter the number: 3\n"
     ]
    },
    {
     "name": "stdout",
     "output_type": "stream",
     "text": [
      "the cube of 3 is 27\n"
     ]
    }
   ],
   "source": [
    "num=eval(input(\"enter the number:\"))\n",
    "cube=num**3\n",
    "print(f\"the cube of {num} is {cube}\")"
   ]
  },
  {
   "cell_type": "code",
   "execution_count": 1,
   "id": "eda645f5-a303-4c3f-934e-ea7d0bb7a88d",
   "metadata": {},
   "outputs": [
    {
     "name": "stdin",
     "output_type": "stream",
     "text": [
      "enter the number: 5\n"
     ]
    },
    {
     "name": "stdout",
     "output_type": "stream",
     "text": [
      "the square of 5 is : 25\n"
     ]
    }
   ],
   "source": [
    "# 1). Ask the user to enter a number. Print out the square of the number,\n",
    "# Sample output is shown below. Enter a number: 5 The square of 5 is 25.\n",
    "\n",
    "number=eval(input(\"enter the number:\"))\n",
    "print(f\"the square of {number} is : {number**2}\")"
   ]
  },
  {
   "cell_type": "code",
   "execution_count": 5,
   "id": "2dab8064-5133-4605-8375-d19a05e1ff34",
   "metadata": {},
   "outputs": [
    {
     "name": "stdin",
     "output_type": "stream",
     "text": [
      "enter the number x 7\n"
     ]
    },
    {
     "name": "stdout",
     "output_type": "stream",
     "text": [
      "7----14----21----28----35\n"
     ]
    }
   ],
   "source": [
    "# 2. Ask the user to enter a number x. print out x, 2x, 3x, 4x, and 5x,\n",
    "\n",
    "x=eval(input(\"enter the number x\"))\n",
    "print(x,x*2,x*3,x*4,x*5, sep=\"----\")"
   ]
  },
  {
   "cell_type": "code",
   "execution_count": 6,
   "id": "2d18d4c1-7138-4d76-b9d0-c95081f10d94",
   "metadata": {},
   "outputs": [
    {
     "name": "stdin",
     "output_type": "stream",
     "text": [
      "enter the weight in kg: 50\n",
      "enter the pounds: 202\n"
     ]
    },
    {
     "name": "stdout",
     "output_type": "stream",
     "text": [
      "50 kilogram to pounds is : 10100\n"
     ]
    }
   ],
   "source": [
    "# 3. Write a program that asks the user for a weight in kilograms and\n",
    "# converts it to pounds. There are 2.2 pounds in a kilogram.\n",
    "\n",
    "weight= eval(input(\"enter the weight in kg:\"))\n",
    "pounds=eval(input(\"enter the pounds:\"))\n",
    "kg_to_pounds=weight*pounds\n",
    "print(f\"{weight} kilogram to pounds is : {kg_to_pounds}\")"
   ]
  },
  {
   "cell_type": "code",
   "execution_count": 1,
   "id": "deabf62f-3d5b-420c-879d-e38795f6f7e2",
   "metadata": {},
   "outputs": [
    {
     "name": "stdin",
     "output_type": "stream",
     "text": [
      "enter the number1: 10\n",
      "enter the number2: 20\n",
      "enter the number3: 30\n"
     ]
    },
    {
     "name": "stdout",
     "output_type": "stream",
     "text": [
      "the total sum of the three numbers is : 60\n",
      "the average of three numbers is : 20.0\n"
     ]
    }
   ],
   "source": [
    "# 4. Write a program that asks the user to enter three numbers (use three separate input statements).Create variables called total and\n",
    "# average that hold the sum and average of the three numbers and print out the values of total and average.\n",
    "number1=eval(input(\"enter the number1:\"))\n",
    "number2=eval(input(\"enter the number2:\"))\n",
    "number3=eval(input(\"enter the number3:\"))\n",
    "total_sum= number1+number2+number3\n",
    "average=(number1+number2+number3)/3\n",
    "print(f\"the total sum of the three numbers is : {total_sum}\")\n",
    "print(f\"the average of three numbers is : {average}\")"
   ]
  },
  {
   "cell_type": "code",
   "execution_count": 4,
   "id": "ef267b66-8f89-4d27-a4c4-e66284981d7c",
   "metadata": {},
   "outputs": [
    {
     "name": "stdin",
     "output_type": "stream",
     "text": [
      "enter the price of cell phone: 1000\n",
      "enter the tip percentage 10\n"
     ]
    },
    {
     "name": "stdout",
     "output_type": "stream",
     "text": [
      "the tip amount is : 100.0\n",
      "the total bill is : 1100.0\n"
     ]
    }
   ],
   "source": [
    "# 5. A lot of cell phones have tip calculators. Write one. Ask the user for the price of the meal and the percent tip they want to leave. \n",
    "# Then print both the tip amount and the total bill with tip included\n",
    "price=eval(input(\"enter the price of cell phone:\"))\n",
    "tip_percentage=eval(input(\"enter the tip percentage\"))\n",
    "tip_amount=price*tip_percentage/100\n",
    "print(f\"the tip amount is : {tip_amount}\")\n",
    "total_bill=price+tip_amount\n",
    "print(f\"the total bill is : {total_bill}\")"
   ]
  },
  {
   "cell_type": "code",
   "execution_count": 5,
   "id": "b56c60ba-efd1-49d1-aa7b-c884ada02c3a",
   "metadata": {},
   "outputs": [
    {
     "name": "stdin",
     "output_type": "stream",
     "text": [
      "enter the number1: 20\n",
      "enter the number2: 30\n"
     ]
    },
    {
     "name": "stdout",
     "output_type": "stream",
     "text": [
      "the addition of 20 and 30 is : 50 \n",
      "the substraction of 20 and 30 is : -10\n",
      "the multiplication of 20 and 30 is : 600\n",
      "the division of 20 and 30 is : 0.6666666666666666\n"
     ]
    }
   ],
   "source": [
    "# 6. wap ask the user enter the 2 numbers find the subtraction,addition, multiplication and division\n",
    "number1=eval(input(\"enter the number1:\"))\n",
    "number2=eval(input(\"enter the number2:\"))\n",
    "addition=number1+number2\n",
    "substraction=number1-number2\n",
    "multiplication=number1*number2\n",
    "division=number1/number2\n",
    "print(f\"the addition of {number1} and {number2} is : {addition} \")\n",
    "print(f\"the substraction of {number1} and {number2} is : {substraction}\")\n",
    "print(f\"the multiplication of {number1} and {number2} is : {multiplication}\")\n",
    "print(f\"the division of {number1} and {number2} is : {division}\")"
   ]
  },
  {
   "cell_type": "code",
   "execution_count": 6,
   "id": "7cc758d5-28c0-45c3-b916-2882c7e39558",
   "metadata": {},
   "outputs": [
    {
     "name": "stdin",
     "output_type": "stream",
     "text": [
      "enter the pi value: 3.14\n",
      "enter the radius: 5\n"
     ]
    },
    {
     "name": "stdout",
     "output_type": "stream",
     "text": [
      "the area of circle of 78.5\n"
     ]
    }
   ],
   "source": [
    "# 7. wap ask the user enter radius values and pi value find the area of the circle\n",
    "pi_value=eval(input(\"enter the pi value:\"))\n",
    "radius=eval(input(\"enter the radius:\"))\n",
    "area_of_circle=pi_value*radius*radius\n",
    "print(f\"the area of circle of {area_of_circle}\")"
   ]
  },
  {
   "cell_type": "code",
   "execution_count": 7,
   "id": "abdda78b-61ae-46f4-8e2d-06cf56d72004",
   "metadata": {},
   "outputs": [
    {
     "name": "stdin",
     "output_type": "stream",
     "text": [
      "enter the dollar amount : 80\n",
      "enter the how much indian rupee for one dollar : 84.3\n"
     ]
    },
    {
     "name": "stdout",
     "output_type": "stream",
     "text": [
      "the bill amount in indian rupees is : 6744.0\n"
     ]
    }
   ],
   "source": [
    "# 8. wap ask the user bill amount in dollars, ask the user enter how much indian rupees for one dollar print the bill amount in rupees\n",
    "bill_amount_dollars=eval(input(\"enter the dollar amount :\"))\n",
    "one_dollar=eval(input(\"enter the how much indian rupee for one dollar :\"))\n",
    "indian_rupee=bill_amount_dollars*one_dollar\n",
    "print(f\"the bill amount in indian rupees is : {indian_rupee}\")"
   ]
  },
  {
   "cell_type": "code",
   "execution_count": 8,
   "id": "ae701d84-60b0-4d3b-acf4-3f8937b657a8",
   "metadata": {},
   "outputs": [
    {
     "name": "stdin",
     "output_type": "stream",
     "text": [
      "enter the base of triangle: 10\n",
      "enter the height of triangle: 20\n"
     ]
    },
    {
     "name": "stdout",
     "output_type": "stream",
     "text": [
      "the area of triangle is : 100.0\n"
     ]
    }
   ],
   "source": [
    "# 9. wap ask the user enter base height calculate area of the triangle\n",
    "base=eval(input(\"enter the base of triangle:\"))\n",
    "height=eval(input(\"enter the height of triangle:\"))\n",
    "area_of_triangle=1/2*base*height\n",
    "print(f\"the area of triangle is : {area_of_triangle}\")"
   ]
  },
  {
   "cell_type": "code",
   "execution_count": 9,
   "id": "a86187c9-f89a-44b9-bcfa-89bfbc121dec",
   "metadata": {},
   "outputs": [
    {
     "name": "stdin",
     "output_type": "stream",
     "text": [
      "enter the length: 10\n",
      "enter the breadth: 20\n"
     ]
    },
    {
     "name": "stdout",
     "output_type": "stream",
     "text": [
      "the area of rectangle is : 200\n"
     ]
    }
   ],
   "source": [
    "# 10. wap ask the user enter length and breadth calculate area of the rectangle\n",
    "length=eval(input(\"enter the length:\"))\n",
    "breadth=eval(input(\"enter the breadth:\"))\n",
    "area_of_rectangle=length*breadth\n",
    "print(f\"the area of rectangle is : {area_of_rectangle}\")"
   ]
  },
  {
   "cell_type": "code",
   "execution_count": 13,
   "id": "49d8d668-1d90-4372-8cc9-1518b655c611",
   "metadata": {},
   "outputs": [
    {
     "name": "stdout",
     "output_type": "stream",
     "text": [
      "It was a sunday, and father want to take his daughter for shoping\n"
     ]
    },
    {
     "name": "stdin",
     "output_type": "stream",
     "text": [
      "father:  hello beta\n",
      "daughter response: hai dad\n",
      "father: are you want go shoping?\n",
      "daughter: yes dad\n",
      "father: where would to go?\n",
      "daughter choice: d-mart\n",
      "father:the d-mart. great choice\n",
      "daughter: list a few iteams i want  to buy chocolates books shoes and cloths\n",
      "cost of first thing: 100\n",
      "cost of second thing: 500\n",
      "cost of third thing: 250\n",
      "cost of fouth thing: 1000\n"
     ]
    },
    {
     "name": "stdout",
     "output_type": "stream",
     "text": [
      "price of first thing 100, second thing 500, third thing 250, fourth thing 1000\n",
      "daughter: what is the total cost of those i want  to buy chocolates books shoes and cloths\n",
      "father:the total cost is 1850\n",
      "daughter: Thanks dad for buying this things for me.\n"
     ]
    }
   ],
   "source": [
    "print(\"It was a sunday, and father want to take his daughter for shoping\")\n",
    "input(\"father: \")\n",
    "daughter_response=input(\"daughter response:\")\n",
    "input(\"father:\")\n",
    "input(\"daughter:\")\n",
    "input(\"father:\")\n",
    "destination=input(\"daughter choice:\")\n",
    "input(f\"father:the {destination}.\")\n",
    "things=input(\"daughter: list a few iteams\")\n",
    "thing1=eval(input(\"cost of first thing:\"))\n",
    "thing2=eval(input(\"cost of second thing:\"))\n",
    "thing3=eval(input(\"cost of third thing:\"))\n",
    "thing4=eval(input(\"cost of fouth thing:\"))\n",
    "print(f\"price of first thing {thing1}, second thing {thing2}, third thing {thing3}, fourth thing {thing4}\")\n",
    "print(f\"daughter: what is the total cost of those {things}\")\n",
    "tota_cost=thing1+thing2+thing3+thing4\n",
    "print(f\"father:the total cost is {tota_cost}\")\n",
    "print(\"daughter: Thanks dad for buying this things for me.\")\n"
   ]
  },
  {
   "cell_type": "code",
   "execution_count": null,
   "id": "9336dab0-e6a4-4f8b-bbad-77b34b1afb65",
   "metadata": {},
   "outputs": [],
   "source": []
  }
 ],
 "metadata": {
  "kernelspec": {
   "display_name": "Python 3 (ipykernel)",
   "language": "python",
   "name": "python3"
  },
  "language_info": {
   "codemirror_mode": {
    "name": "ipython",
    "version": 3
   },
   "file_extension": ".py",
   "mimetype": "text/x-python",
   "name": "python",
   "nbconvert_exporter": "python",
   "pygments_lexer": "ipython3",
   "version": "3.11.7"
  }
 },
 "nbformat": 4,
 "nbformat_minor": 5
}
