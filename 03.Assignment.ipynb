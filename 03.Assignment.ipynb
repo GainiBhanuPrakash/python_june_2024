{
 "cells": [
  {
   "cell_type": "code",
   "execution_count": 1,
   "id": "6dd50dec-646c-49be-8df9-828c796aba25",
   "metadata": {},
   "outputs": [
    {
     "name": "stdin",
     "output_type": "stream",
     "text": [
      "enter the basic salary: 50000\n"
     ]
    },
    {
     "name": "stdout",
     "output_type": "stream",
     "text": [
      "the gross salary of ramesh is: 80000.0\n"
     ]
    }
   ],
   "source": [
    "# 1. Ramesh’s basic salary is input through the keyboard. His dearness allowance is 40% of basic salary, and\n",
    "#house rent allowance is 20% of basic salary. Write a program to calculate his gross salary.\n",
    "\n",
    "ramesh_salary=eval(input(\"enter the basic salary:\"))\n",
    "dearness=(40/100)*ramesh_salary\n",
    "house_rent=(20/100)*ramesh_salary\n",
    "gross_salary=ramesh_salary+dearness+house_rent\n",
    "print(f\"the gross salary of ramesh is: {gross_salary}\")"
   ]
  },
  {
   "cell_type": "code",
   "execution_count": 2,
   "id": "456782e2-5ecb-438f-9e21-84d293564cd3",
   "metadata": {},
   "outputs": [
    {
     "name": "stdin",
     "output_type": "stream",
     "text": [
      "enter the distance between the two cities in KM: 75\n"
     ]
    },
    {
     "name": "stdout",
     "output_type": "stream",
     "text": [
      "the distance between the two cities in km  : 75\n",
      "the distance between the two cities in meters is : 75000\n",
      "the distance between the two cities in feet is : 246062.25\n",
      "the distance between the two cities in inches is : 2952750\n",
      "the distance between the two cities in centimeters is : 7500000\n"
     ]
    }
   ],
   "source": [
    "# 2. The distance between two cities (in km.) is input through the keyboard. Write a program to convert and\n",
    "#print this distance in meters, feet, inches and centimeters.\n",
    "two_cities_distance=eval(input(\"enter the distance between the two cities in KM:\"))\n",
    "print(\"the distance between the two cities in km  :\",two_cities_distance)\n",
    "meters=two_cities_distance*1000\n",
    "print(\"the distance between the two cities in meters is :\",meters)\n",
    "feet=two_cities_distance*3280.83\n",
    "print(\"the distance between the two cities in feet is :\",feet)\n",
    "inches=two_cities_distance*39370\n",
    "print(\"the distance between the two cities in inches is :\",inches)\n",
    "centimeters=two_cities_distance*100000\n",
    "print(\"the distance between the two cities in centimeters is :\",centimeters)"
   ]
  },
  {
   "cell_type": "code",
   "execution_count": 3,
   "id": "83a155e4-9d05-4373-8eae-a9d98b2fcd47",
   "metadata": {},
   "outputs": [
    {
     "name": "stdin",
     "output_type": "stream",
     "text": [
      "enter the subject_1 marks: 80\n",
      "enter the subject_2 marks: 85\n",
      "enter the subject_3 marks: 92\n",
      "enter the subject_4 marks: 96\n",
      "enter the subject_5 marks: 98\n"
     ]
    },
    {
     "name": "stdout",
     "output_type": "stream",
     "text": [
      "the aggregate marks of the students in five subjects is : 451\n",
      "the percentage in five subjects is : 90.2\n"
     ]
    }
   ],
   "source": [
    "# 3. If the marks obtained by a student in five different subjects are input through the keyboard, find out the\n",
    "# aggregate marks and percentage marks obtained by the student. Assume that the maximum marks that\n",
    "# can be obtained by a student in each subject is 100.\n",
    "subject_1=eval(input(\"enter the subject_1 marks:\"))\n",
    "subject_2=eval(input(\"enter the subject_2 marks:\"))\n",
    "subject_3=eval(input(\"enter the subject_3 marks:\"))\n",
    "subject_4=eval(input(\"enter the subject_4 marks:\"))\n",
    "subject_5=eval(input(\"enter the subject_5 marks:\"))\n",
    "aggregate_marks=subject_1+subject_2+subject_3+subject_4+subject_5\n",
    "percentage_marks=(aggregate_marks/500)*100\n",
    "print(\"the aggregate marks of the students in five subjects is :\",aggregate_marks)\n",
    "print(\"the percentage in five subjects is :\",percentage_marks)"
   ]
  },
  {
   "cell_type": "code",
   "execution_count": 4,
   "id": "a4da008d-63cb-4736-a584-233e11583aa2",
   "metadata": {},
   "outputs": [
    {
     "name": "stdin",
     "output_type": "stream",
     "text": [
      "enter the temperature in fahrenheit: 1\n"
     ]
    },
    {
     "name": "stdout",
     "output_type": "stream",
     "text": [
      "the temperature in centigrde is : -17.22222222222222\n"
     ]
    }
   ],
   "source": [
    "# 4. Temperature of a city in Fahrenheit degrees is input through the keyboard. Write a program to convert this\n",
    "# temperature into Centigrade degrees.\n",
    "temperature=eval(input(\"enter the temperature in fahrenheit:\"))\n",
    "centigarde=(temperature-32)*5/9\n",
    "print(\"the temperature in centigrde is :\",centigarde)"
   ]
  },
  {
   "cell_type": "code",
   "execution_count": 5,
   "id": "317f2aa7-a31f-4b4e-9823-13026abf6e6d",
   "metadata": {},
   "outputs": [
    {
     "name": "stdin",
     "output_type": "stream",
     "text": [
      "enter the length: 10\n",
      "enter the breadth: 20\n",
      "enter the radius: 5\n",
      "enter the pi value: 3.14\n"
     ]
    },
    {
     "name": "stdout",
     "output_type": "stream",
     "text": [
      "the area of rectangle is : 200\n",
      "the perimeter of rectangle is : 60\n",
      "the area of circle is : 78.5\n",
      "the circumference of the circle is : 31.400000000000002\n"
     ]
    }
   ],
   "source": [
    "# 5. The length & breadth of a rectangle and radius of a circle are input through the keyboard. Write a program\n",
    "# to calculate the area & perimeter of the rectangle, and the area & circumference of the circle.\n",
    "length=eval(input(\"enter the length:\"))\n",
    "breadth=eval(input(\"enter the breadth:\"))\n",
    "radius=eval(input(\"enter the radius:\"))\n",
    "pi_value=eval(input(\"enter the pi value:\"))\n",
    "area=length*breadth\n",
    "print(\"the area of rectangle is :\",area)\n",
    "perimeter=2*(length+breadth)\n",
    "print(\"the perimeter of rectangle is :\",perimeter)\n",
    "area_of_circle=pi_value*radius*radius\n",
    "print(\"the area of circle is :\",area_of_circle)\n",
    "circumference_of_circle=2*pi_value*radius\n",
    "print(\"the circumference of the circle is :\",circumference_of_circle)"
   ]
  },
  {
   "cell_type": "code",
   "execution_count": 8,
   "id": "a273d12b-7a89-45b9-abd2-255f147a9818",
   "metadata": {},
   "outputs": [
    {
     "name": "stdin",
     "output_type": "stream",
     "text": [
      "enter the C: 10\n",
      "enter the D: 5\n"
     ]
    },
    {
     "name": "stdout",
     "output_type": "stream",
     "text": [
      "5\n"
     ]
    }
   ],
   "source": [
    "# 6. Two numbers are input through the keyboard into two locations C and D. Write a program to interchange the contents of C and D.\n",
    "c=eval(input(\"enter the C:\"))\n",
    "d=eval(input(\"enter the D:\"))\n",
    "c=d\n",
    "print(c)"
   ]
  },
  {
   "cell_type": "code",
   "execution_count": 51,
   "id": "fc0cfc45-ad37-4aad-8127-d98113fa13bc",
   "metadata": {},
   "outputs": [
    {
     "name": "stdin",
     "output_type": "stream",
     "text": [
      "enter the 5 digits number : 12345\n"
     ]
    },
    {
     "name": "stdout",
     "output_type": "stream",
     "text": [
      "54321\n"
     ]
    }
   ],
   "source": [
    "# 7. If a five-digit number is input through the keyboard, write a program to reverse the number.\n",
    "digits=input(\"enter the 5 digits number :\")\n",
    "print(digits[::-1])\n",
    "\n"
   ]
  },
  {
   "cell_type": "code",
   "execution_count": 56,
   "id": "1ef84746-b201-4eaf-8c45-7e5ec887a433",
   "metadata": {},
   "outputs": [
    {
     "name": "stdin",
     "output_type": "stream",
     "text": [
      "enter the number: 1234\n"
     ]
    },
    {
     "name": "stdout",
     "output_type": "stream",
     "text": [
      "1 4\n",
      "5\n"
     ]
    }
   ],
   "source": [
    "# 8. If a four-digit number is input through the keyboard, write a program to obtain the sum of the first and last digit of this number.\n",
    "number=eval(input(\"enter the number:\"))\n",
    "first_digit=number//1000\n",
    "last_digit=number%10\n",
    "print(first_digit,end=\" \")\n",
    "print(last_digit)\n",
    "add=first_digit+last_digit\n",
    "print(add)"
   ]
  },
  {
   "cell_type": "code",
   "execution_count": 57,
   "id": "1233c671-3efd-46a8-a7dc-e3ae99c697ae",
   "metadata": {},
   "outputs": [
    {
     "name": "stdout",
     "output_type": "stream",
     "text": [
      "the no.of men in 80,000 population is: 41600.0\n",
      "the no.of women in 80,000 population is : 38400.0\n",
      "the total literacy in 80000 population is: 38400.0\n",
      "the men literacy i 80000 popultion is : 28000.0\n",
      "the women literacy in 80000 population is : 10400.0\n",
      "the illiterate men in the population is : 13600.0\n",
      "the illiterate wpmen in the population is : 28000.0\n"
     ]
    }
   ],
   "source": [
    "# 9. In a town, the percentage of men is 52. The percentage of total literacy is 48. If total percentage of literate\n",
    "# men is 35 of the total population, write a program to find the total number of illiterate men and women if\n",
    "# the population of the town is 80,000.\n",
    "number_of_men=(52/100)*80000\n",
    "# womens=100-52=48\n",
    "number_of_women=(48/100)*80000\n",
    "print(\"the no.of men in 80,000 population is:\",number_of_men)\n",
    "print(\"the no.of women in 80,000 population is :\",number_of_women)\n",
    "total_literacy=(48/100)*80000\n",
    "men_literacy=(35/100)*80000\n",
    "women_literacy=total_literacy-men_literacy\n",
    "print(\"the total literacy in 80000 population is:\",total_literacy)\n",
    "print(\"the men literacy i 80000 popultion is :\",men_literacy)\n",
    "print(\"the women literacy in 80000 population is :\",women_literacy)\n",
    "illiterate_men=number_of_men-men_literacy\n",
    "illiterate_women=number_of_women-women_literacy\n",
    "print(\"the illiterate men in the population is :\",illiterate_men)\n",
    "print(\"the illiterate wpmen in the population is :\",illiterate_women)"
   ]
  },
  {
   "cell_type": "code",
   "execution_count": 60,
   "id": "c3960143-8848-416c-8c01-5ce8e1f5b038",
   "metadata": {},
   "outputs": [
    {
     "name": "stdin",
     "output_type": "stream",
     "text": [
      "enter the amount in hundreds : 8560\n"
     ]
    },
    {
     "name": "stdout",
     "output_type": "stream",
     "text": [
      "the no.of hundres : 85\n",
      "the no.of fifty : 1\n",
      "the no.of tens : 1\n"
     ]
    }
   ],
   "source": [
    "# 10. A cashier has currency notes of denominations 10, 50 and 100. If the amount to be withdrawn is input\n",
    "# through the keyboard in hundreds, find the total number of currency notes of each denomination the\n",
    "# cashier will have to give to the withdrawer.\n",
    "amount_hundreds=eval(input(\"enter the amount in hundreds :\"))\n",
    "\n",
    "notes_100=amount_hundreds//100\n",
    "amount_hundreds%=100\n",
    "note_50=amount_hundreds//50\n",
    "amount_hundreds%=50\n",
    "note_10=amount_hundreds//10\n",
    "amount_hundreds%=10\n",
    "\n",
    "print(\"the no.of hundres :\",notes_100)\n",
    "print(\"the no.of fifty :\",note_50)\n",
    "print(\"the no.of tens :\",note_10)"
   ]
  },
  {
   "cell_type": "code",
   "execution_count": null,
   "id": "626f0c53-2d22-4ee0-a7f2-937bc2e70cc4",
   "metadata": {},
   "outputs": [],
   "source": []
  }
 ],
 "metadata": {
  "kernelspec": {
   "display_name": "Python 3 (ipykernel)",
   "language": "python",
   "name": "python3"
  },
  "language_info": {
   "codemirror_mode": {
    "name": "ipython",
    "version": 3
   },
   "file_extension": ".py",
   "mimetype": "text/x-python",
   "name": "python",
   "nbconvert_exporter": "python",
   "pygments_lexer": "ipython3",
   "version": "3.11.7"
  }
 },
 "nbformat": 4,
 "nbformat_minor": 5
}
